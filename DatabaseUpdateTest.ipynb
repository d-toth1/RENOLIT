{
 "cells": [
  {
   "cell_type": "code",
   "execution_count": 1,
   "metadata": {},
   "outputs": [
    {
     "name": "stdout",
     "output_type": "stream",
     "text": [
      "Imports successful\n"
     ]
    }
   ],
   "source": [
    "from imports import *"
   ]
  },
  {
   "cell_type": "code",
   "execution_count": 2,
   "metadata": {},
   "outputs": [
    {
     "name": "stderr",
     "output_type": "stream",
     "text": [
      "100%|███████████████████████████████████████████████████████████████████████████████████████████████████████████████████████████████████████████████████████████████████████████████████████████████████| 585/585 [07:38<00:00,  1.28it/s]\n"
     ]
    },
    {
     "ename": "KeyboardInterrupt",
     "evalue": "",
     "output_type": "error",
     "traceback": [
      "\u001b[1;31m---------------------------------------------------------------------------\u001b[0m",
      "\u001b[1;31mKeyboardInterrupt\u001b[0m                         Traceback (most recent call last)",
      "\u001b[1;32m<ipython-input-2-1d9b8a8cdacb>\u001b[0m in \u001b[0;36m<module>\u001b[1;34m()\u001b[0m\n\u001b[0;32m     12\u001b[0m \u001b[0morder\u001b[0m\u001b[1;33m,\u001b[0m \u001b[0mcharac\u001b[0m\u001b[1;33m,\u001b[0m \u001b[0mpo_id\u001b[0m\u001b[1;33m,\u001b[0m \u001b[0mroll_no\u001b[0m \u001b[1;33m=\u001b[0m \u001b[0mdf\u001b[0m\u001b[1;33m[\u001b[0m\u001b[1;34m\"Order:\"\u001b[0m\u001b[1;33m]\u001b[0m\u001b[1;33m.\u001b[0m\u001b[0mtolist\u001b[0m\u001b[1;33m(\u001b[0m\u001b[1;33m)\u001b[0m\u001b[1;33m,\u001b[0m \u001b[0mdf\u001b[0m\u001b[1;33m[\u001b[0m\u001b[1;34m'Charac.'\u001b[0m\u001b[1;33m]\u001b[0m\u001b[1;33m.\u001b[0m\u001b[0mtolist\u001b[0m\u001b[1;33m(\u001b[0m\u001b[1;33m)\u001b[0m\u001b[1;33m,\u001b[0m \u001b[0mdf\u001b[0m\u001b[1;33m[\u001b[0m\u001b[1;34m'PO ID'\u001b[0m\u001b[1;33m]\u001b[0m\u001b[1;33m.\u001b[0m\u001b[0mtolist\u001b[0m\u001b[1;33m(\u001b[0m\u001b[1;33m)\u001b[0m\u001b[1;33m,\u001b[0m \u001b[0mdf\u001b[0m\u001b[1;33m[\u001b[0m\u001b[1;34m'PO lfn'\u001b[0m\u001b[1;33m]\u001b[0m\u001b[1;33m.\u001b[0m\u001b[0mtolist\u001b[0m\u001b[1;33m(\u001b[0m\u001b[1;33m)\u001b[0m\u001b[1;33m\u001b[0m\u001b[0m\n\u001b[0;32m     13\u001b[0m \u001b[1;32mfor\u001b[0m \u001b[0ma\u001b[0m\u001b[1;33m,\u001b[0m\u001b[0mb\u001b[0m\u001b[1;33m,\u001b[0m\u001b[0mc\u001b[0m\u001b[1;33m,\u001b[0m\u001b[0md\u001b[0m \u001b[1;32min\u001b[0m \u001b[0mzip\u001b[0m\u001b[1;33m(\u001b[0m\u001b[0mraw_order\u001b[0m\u001b[1;33m,\u001b[0m \u001b[0mraw_charac\u001b[0m\u001b[1;33m,\u001b[0m \u001b[0mraw_poid\u001b[0m\u001b[1;33m,\u001b[0m \u001b[0mraw_rollno\u001b[0m\u001b[1;33m)\u001b[0m\u001b[1;33m:\u001b[0m\u001b[1;33m\u001b[0m\u001b[0m\n\u001b[1;32m---> 14\u001b[1;33m     \u001b[1;32mfor\u001b[0m \u001b[0me\u001b[0m\u001b[1;33m,\u001b[0m\u001b[0mf\u001b[0m\u001b[1;33m,\u001b[0m\u001b[0mg\u001b[0m\u001b[1;33m,\u001b[0m\u001b[0mh\u001b[0m \u001b[1;32min\u001b[0m \u001b[0mzip\u001b[0m\u001b[1;33m(\u001b[0m\u001b[0morder\u001b[0m\u001b[1;33m,\u001b[0m \u001b[0mcharac\u001b[0m\u001b[1;33m,\u001b[0m \u001b[0mpo_id\u001b[0m\u001b[1;33m,\u001b[0m \u001b[0mroll_no\u001b[0m\u001b[1;33m)\u001b[0m\u001b[1;33m:\u001b[0m\u001b[1;33m\u001b[0m\u001b[0m\n\u001b[0m\u001b[0;32m     15\u001b[0m         \u001b[1;32mif\u001b[0m \u001b[0ma\u001b[0m\u001b[1;33m==\u001b[0m\u001b[0me\u001b[0m \u001b[1;32mand\u001b[0m \u001b[0mb\u001b[0m\u001b[1;33m==\u001b[0m\u001b[0mf\u001b[0m \u001b[1;32mand\u001b[0m \u001b[0mc\u001b[0m\u001b[1;33m==\u001b[0m\u001b[0mg\u001b[0m \u001b[1;32mand\u001b[0m \u001b[0md\u001b[0m \u001b[1;33m==\u001b[0m \u001b[0mh\u001b[0m\u001b[1;33m:\u001b[0m\u001b[1;33m\u001b[0m\u001b[0m\n\u001b[0;32m     16\u001b[0m             \u001b[0mrow\u001b[0m \u001b[1;33m=\u001b[0m \u001b[0mdf_rawdata\u001b[0m\u001b[1;33m.\u001b[0m\u001b[0mloc\u001b[0m\u001b[1;33m[\u001b[0m\u001b[1;33m(\u001b[0m\u001b[0mdf_rawdata\u001b[0m\u001b[1;33m[\u001b[0m\u001b[1;34m\"Order:\"\u001b[0m\u001b[1;33m]\u001b[0m \u001b[1;33m==\u001b[0m \u001b[0ma\u001b[0m\u001b[1;33m)\u001b[0m \u001b[1;33m&\u001b[0m \u001b[1;33m(\u001b[0m\u001b[0mdf_rawdata\u001b[0m\u001b[1;33m[\u001b[0m\u001b[1;34m\"Charac.\"\u001b[0m\u001b[1;33m]\u001b[0m \u001b[1;33m==\u001b[0m \u001b[0mb\u001b[0m\u001b[1;33m)\u001b[0m \u001b[1;33m&\u001b[0m \u001b[1;33m(\u001b[0m\u001b[0mdf_rawdata\u001b[0m\u001b[1;33m[\u001b[0m\u001b[1;34m\"PO ID\"\u001b[0m\u001b[1;33m]\u001b[0m \u001b[1;33m==\u001b[0m \u001b[0mc\u001b[0m\u001b[1;33m)\u001b[0m \u001b[1;33m&\u001b[0m \u001b[1;33m(\u001b[0m\u001b[0mdf_rawdata\u001b[0m\u001b[1;33m[\u001b[0m\u001b[1;34m\"PO lfn\"\u001b[0m\u001b[1;33m]\u001b[0m \u001b[1;33m==\u001b[0m \u001b[0md\u001b[0m\u001b[1;33m)\u001b[0m\u001b[1;33m]\u001b[0m\u001b[1;33m\u001b[0m\u001b[0m\n",
      "\u001b[1;31mKeyboardInterrupt\u001b[0m: "
     ]
    }
   ],
   "source": [
    "df = pd.read_excel(\"O:/QUALITY/QC Data Project/CleanDataBase.xlsx\")\n",
    "\n",
    "raw_data = gl.glob(\"O:/QUALITY/QC Data Project/Raw Data/*\")\n",
    "df_rawdata = pd.DataFrame()\n",
    "\n",
    "for file in tqdm(raw_data):\n",
    "    temp_df = pd.read_excel(file)\n",
    "    df_rawdata = df_rawdata.append(temp_df, ignore_index=True)\n",
    "df_rawdata = df_rawdata.drop_duplicates()\n",
    "##### INSERT FILTER HERE BEFORE CHANGING DATES #####\n",
    "raw_order, raw_charac, raw_poid, raw_rollno = df_rawdata['Order:'].tolist(), df_rawdata['Charac.'].tolist(), df_rawdata['PO ID'].tolist(), df_rawdata['PO lfn'].tolist()\n",
    "order, charac, po_id, roll_no = df[\"Order:\"].tolist(), df['Charac.'].tolist(), df['PO ID'].tolist(), df['PO lfn'].tolist()\n",
    "for a,b,c,d in zip(raw_order, raw_charac, raw_poid, raw_rollno):\n",
    "    for e,f,g,h in zip(order, charac, po_id, roll_no):\n",
    "        if a==e and b==f and c==g and d == h:\n",
    "            row = df_rawdata.loc[(df_rawdata[\"Order:\"] == a) & (df_rawdata[\"Charac.\"] == b) & (df_rawdata[\"PO ID\"] == c) & (df_rawdata[\"PO lfn\"] == d)]\n",
    "            index = row.index\n",
    "            df_rawdata = df_rawdata.drop(index)"
   ]
  },
  {
   "cell_type": "code",
   "execution_count": null,
   "metadata": {},
   "outputs": [
    {
     "name": "stderr",
     "output_type": "stream",
     "text": [
      "100%|███████████████████████████████████████████████████████████████████████████████████████████████████████████████████████████████████████████████████████████████████████████████████████████████████| 585/585 [07:57<00:00,  1.23it/s]\n",
      "6135it [18:55,  5.40it/s]"
     ]
    }
   ],
   "source": [
    "df = pd.read_excel(\"O:/QUALITY/QC Data Project/CleanDataBase.xlsx\")\n",
    "\n",
    "\n",
    "\n",
    "raw_data = gl.glob(\"O:/QUALITY/QC Data Project/Raw Data/*\")\n",
    "df_rawdata = pd.DataFrame()\n",
    "\n",
    "for file in tqdm(raw_data):\n",
    "    temp_df = pd.read_excel(file)\n",
    "    df_rawdata = df_rawdata.append(temp_df, ignore_index=True)\n",
    "df_rawdata = df_rawdata.drop_duplicates()\n",
    "##### INSERT FILTER HERE BEFORE CHANGING DATES #####\n",
    "raw_order, raw_charac, raw_poid, raw_rollno = df_rawdata['Order:'].tolist(), df_rawdata['Charac.'].tolist(), df_rawdata['PO ID'].tolist(), df_rawdata['PO lfn'].tolist()\n",
    "order, charac, po_id, roll_no = df[\"Order:\"].tolist(), df['Charac.'].tolist(), df['PO ID'].tolist(), df['PO lfn'].tolist()\n",
    "for a,b,c,d in tqdm(zip(raw_order, raw_charac, raw_poid, raw_rollno)):\n",
    "    for e,f,g,h in zip(order, charac, po_id, roll_no):\n",
    "        if a==e and b==f and c==g and d == h:\n",
    "            row = df_rawdata.loc[(df_rawdata[\"Order:\"] == a) & (df_rawdata[\"Charac.\"] == b) & (df_rawdata[\"PO ID\"] == c) & (df_rawdata[\"PO lfn\"] == d)]\n",
    "            index = row.index\n",
    "            df_rawdata = df_rawdata.drop(index)"
   ]
  },
  {
   "cell_type": "code",
   "execution_count": null,
   "metadata": {},
   "outputs": [],
   "source": []
  }
 ],
 "metadata": {
  "kernelspec": {
   "display_name": "Python 3",
   "language": "python",
   "name": "python3"
  },
  "language_info": {
   "codemirror_mode": {
    "name": "ipython",
    "version": 3
   },
   "file_extension": ".py",
   "mimetype": "text/x-python",
   "name": "python",
   "nbconvert_exporter": "python",
   "pygments_lexer": "ipython3",
   "version": "3.6.6"
  }
 },
 "nbformat": 4,
 "nbformat_minor": 2
}
